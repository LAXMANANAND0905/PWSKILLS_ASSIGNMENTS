{
 "cells": [
  {
   "cell_type": "markdown",
   "id": "cb561ce3-3e4e-4c3d-ab0d-04a9a157fe6b",
   "metadata": {
    "id": "cb561ce3-3e4e-4c3d-ab0d-04a9a157fe6b"
   },
   "source": [
    "#question 1:swapping numberswithout using a temporary variable."
   ]
  },
  {
   "cell_type": "code",
   "execution_count": null,
   "id": "a8b68cf4-cbd7-42e6-99be-97773abbd7b3",
   "metadata": {
    "id": "a8b68cf4-cbd7-42e6-99be-97773abbd7b3",
    "outputId": "b775608e-35df-4834-ca7d-335708e030fb"
   },
   "outputs": [
    {
     "name": "stdin",
     "output_type": "stream",
     "text": [
      " 234\n",
      " 201\n"
     ]
    }
   ],
   "source": [
    "x=int(input())\n",
    "y=int(input())\n",
    "x,y=y,x"
   ]
  },
  {
   "cell_type": "code",
   "execution_count": null,
   "id": "03382aeb-e036-422e-9910-942eadaba260",
   "metadata": {
    "id": "03382aeb-e036-422e-9910-942eadaba260",
    "outputId": "e5f0fc88-b8a0-406c-f8fb-2ea5413a6a4b"
   },
   "outputs": [
    {
     "data": {
      "text/plain": [
       "(201, 234)"
      ]
     },
     "execution_count": 6,
     "metadata": {},
     "output_type": "execute_result"
    }
   ],
   "source": [
    "#initial assigned x value=234 & y value=201 through input\n",
    "x,y"
   ]
  },
  {
   "cell_type": "code",
   "execution_count": null,
   "id": "cbb47839-51bd-4670-a0bb-8814967ca63b",
   "metadata": {
    "id": "cbb47839-51bd-4670-a0bb-8814967ca63b"
   },
   "outputs": [],
   "source": [
    "#after swaping the values get changed x=201 and y=234"
   ]
  },
  {
   "cell_type": "markdown",
   "id": "574d2589-35fa-4d62-a37e-795c9f4e08ba",
   "metadata": {
    "id": "574d2589-35fa-4d62-a37e-795c9f4e08ba"
   },
   "source": [
    "#question 2:create a program to calculate the area of triangle.Take length and width of the inputs from user and store them as variables.calculate and display the area."
   ]
  },
  {
   "cell_type": "code",
   "execution_count": null,
   "id": "71dff2ea-9b62-4445-9968-e207924a91c6",
   "metadata": {
    "id": "71dff2ea-9b62-4445-9968-e207924a91c6",
    "outputId": "c64228f3-0a78-4b77-f27a-25a8366faa08"
   },
   "outputs": [
    {
     "name": "stdin",
     "output_type": "stream",
     "text": [
      "Enter the length: 4.5\n",
      "Enter the width: 6.8\n"
     ]
    },
    {
     "name": "stdout",
     "output_type": "stream",
     "text": [
      "Area of Rectangle is : 30.60 m\n"
     ]
    }
   ],
   "source": [
    "#input length and width in metres.\n",
    "length=float(input(\"Enter the length:\"))\n",
    "width=float(input(\"Enter the width:\"))\n",
    "area=length*width\n",
    "print(\"Area of Rectangle is :\",format(area,\".2f\"),\"m\")\n",
    "#float used instead of int to take all kinds of numbers,format used to keep the area restricted to 2 decimal points."
   ]
  },
  {
   "cell_type": "markdown",
   "id": "4bd4f4ee-4e92-44d7-b3a2-1bc44328e15a",
   "metadata": {
    "id": "4bd4f4ee-4e92-44d7-b3a2-1bc44328e15a"
   },
   "source": [
    "#question 3: convert temperature from celcius scale to fahrenheit.take temperature in celcius as input and store them in variables,convert it into fahrenheit and give the result."
   ]
  },
  {
   "cell_type": "code",
   "execution_count": null,
   "id": "d060803d-c543-4518-8245-5b36bc8bc16d",
   "metadata": {
    "id": "d060803d-c543-4518-8245-5b36bc8bc16d",
    "outputId": "33fe4661-96b3-4cf8-a48c-105a92f029f0"
   },
   "outputs": [
    {
     "name": "stdin",
     "output_type": "stream",
     "text": [
      "Enter the temperature in celsius: 56\n"
     ]
    },
    {
     "name": "stdout",
     "output_type": "stream",
     "text": [
      "The temperature in fahreinheit is: 132.8 f\n"
     ]
    }
   ],
   "source": [
    "#Tf is temperature in fahreinheit and Tc be temperature in celcius\n",
    "Tc=float(input(\"Enter the temperature in celsius:\"))\n",
    "Tf=(1.8*Tc)+32\n",
    "print(\"The temperature in fahreinheit is:\",Tf,\"f\")"
   ]
  },
  {
   "cell_type": "code",
   "execution_count": null,
   "id": "a0c99ae9-ebe8-4093-87d0-6227438c2c52",
   "metadata": {
    "id": "a0c99ae9-ebe8-4093-87d0-6227438c2c52"
   },
   "outputs": [],
   "source": []
  },
  {
   "cell_type": "markdown",
   "id": "471d7c2a-356f-42e5-9429-3fe50f6803a8",
   "metadata": {
    "id": "471d7c2a-356f-42e5-9429-3fe50f6803a8"
   },
   "source": [
    "string based questions\n",
    "\n",
    "#question 1:write a program that takes string as input and prints length of the string\n"
   ]
  },
  {
   "cell_type": "code",
   "execution_count": null,
   "id": "5f1835e1-0d93-4bbe-bdb1-a6754d8ce694",
   "metadata": {
    "id": "5f1835e1-0d93-4bbe-bdb1-a6754d8ce694",
    "outputId": "68f31c40-5d53-4019-d246-e0f7e5bc09fb"
   },
   "outputs": [
    {
     "name": "stdin",
     "output_type": "stream",
     "text": [
      "Enter the string : NIVA ANAND\n"
     ]
    },
    {
     "name": "stdout",
     "output_type": "stream",
     "text": [
      "The length of the string is : 10\n"
     ]
    }
   ],
   "source": [
    "string=str(input(\"Enter the string :\"))\n",
    "print(\"The length of the string is :\",len(string))"
   ]
  },
  {
   "cell_type": "markdown",
   "id": "0a463689-fdd3-4d71-af5d-33fa68186631",
   "metadata": {
    "id": "0a463689-fdd3-4d71-af5d-33fa68186631"
   },
   "source": [
    "Question 2:Create a program that takes a sentence from the user and counts the number of vowels(a,e,i,o,u) in the string."
   ]
  },
  {
   "cell_type": "code",
   "execution_count": null,
   "id": "a0de45da",
   "metadata": {
    "id": "a0de45da",
    "outputId": "01552463-be9b-4c8c-9060-116541c26b06"
   },
   "outputs": [
    {
     "name": "stdin",
     "output_type": "stream",
     "text": [
      "Enter the sentence: varikoti laxman anand\n"
     ]
    },
    {
     "name": "stdout",
     "output_type": "stream",
     "text": [
      "The length of the string is: 21\n",
      "The number of vowels in the string are: 8\n"
     ]
    }
   ],
   "source": [
    "string=str(input(\"Enter the sentence:\"))\n",
    "vowels=0\n",
    "#taking the vowel count as zero initially,take v  and assign each vowel through for loop and if statement.\n",
    "for v in string:\n",
    "    if (v=='a'or v==\"e\" or v==\"i\" or v==\"o\" or v==\"u\" or v==\"A\" or v==\"E\" or v==\"I\" or v==\"O\" or v==\"U\"):\n",
    "        vowels=vowels+1\n",
    "print(\"The length of the string is:\",len(string))\n",
    "print(\"The number of vowels in the string are:\",vowels)"
   ]
  },
  {
   "cell_type": "code",
   "execution_count": null,
   "id": "feef8c33-733e-4d1b-a329-a5086e32de3d",
   "metadata": {
    "id": "feef8c33-733e-4d1b-a329-a5086e32de3d"
   },
   "outputs": [],
   "source": []
  },
  {
   "cell_type": "markdown",
   "id": "cd360cf0-ad13-43b0-8b8e-43f9dba3996f",
   "metadata": {
    "id": "cd360cf0-ad13-43b0-8b8e-43f9dba3996f"
   },
   "source": [
    "#question 3:Give a string,reverse the order of characters using string slicing and print the reversed string"
   ]
  },
  {
   "cell_type": "code",
   "execution_count": null,
   "id": "29899bbe-c3fa-4c87-84f4-e330105c4ac5",
   "metadata": {
    "id": "29899bbe-c3fa-4c87-84f4-e330105c4ac5",
    "outputId": "3ff0e6b8-a8eb-4eac-b6a6-15c28bd98b07"
   },
   "outputs": [
    {
     "name": "stdin",
     "output_type": "stream",
     "text": [
      "Enter the string: NIVA ANAND VARIKOTI\n"
     ]
    },
    {
     "name": "stdout",
     "output_type": "stream",
     "text": [
      "The reverse of the string is: ITOKIRAV DNANA AVIN\n"
     ]
    }
   ],
   "source": [
    "string=input(\"Enter the string:\")\n",
    "#Using string slicing\n",
    "rev_string=string[::-1]\n",
    "print(\"The reverse of the string is:\",rev_string)\n"
   ]
  },
  {
   "cell_type": "code",
   "execution_count": null,
   "id": "dd0c8d13-92a2-4fbb-a48b-82d3e62d15da",
   "metadata": {
    "id": "dd0c8d13-92a2-4fbb-a48b-82d3e62d15da"
   },
   "outputs": [],
   "source": []
  },
  {
   "cell_type": "markdown",
   "id": "632a8f06-a4fe-4bb1-9668-9c2eadc843a0",
   "metadata": {
    "id": "632a8f06-a4fe-4bb1-9668-9c2eadc843a0"
   },
   "source": [
    "#QUESTION 4:write a program that takes a string as input and checks whether it is palindrome or not"
   ]
  },
  {
   "cell_type": "code",
   "execution_count": null,
   "id": "41c4e26d-9cfb-4a2a-8880-cd841ad56b27",
   "metadata": {
    "id": "41c4e26d-9cfb-4a2a-8880-cd841ad56b27",
    "outputId": "d5fc0d49-8849-4ebe-f9f1-fb491f39c8aa"
   },
   "outputs": [
    {
     "name": "stdin",
     "output_type": "stream",
     "text": [
      "Enter the string: liril\n"
     ]
    },
    {
     "name": "stdout",
     "output_type": "stream",
     "text": [
      "print the Reverse of the word: liril\n",
      "Given string is a palindrome\n"
     ]
    }
   ],
   "source": [
    "string=input(\"Enter the string:\")\n",
    "#string slicing is used to reverse the order of string.\n",
    "string_reverse=string[::-1]\n",
    "print(\"print the Reverse of the word:\",string_reverse)\n",
    "\n",
    "if string==string_reverse:\n",
    "    print(\"Given string is a palindrome\")\n",
    "else:\n",
    "    print(\"Given string is not a palindrome\")"
   ]
  },
  {
   "cell_type": "markdown",
   "id": "099ecd59-57fd-4109-9c3a-67b7d8e36394",
   "metadata": {
    "id": "099ecd59-57fd-4109-9c3a-67b7d8e36394"
   },
   "source": []
  },
  {
   "cell_type": "markdown",
   "id": "217b77e3-2da4-4e79-aa41-2f5b6b99b0d7",
   "metadata": {
    "id": "217b77e3-2da4-4e79-aa41-2f5b6b99b0d7"
   },
   "source": [
    "#question 5:create a program that takes string as an input and removes all the spaces from it.Print the modified string without spaces."
   ]
  },
  {
   "cell_type": "code",
   "execution_count": null,
   "id": "7d326bb7-db00-4ddb-86b7-df2b004366c2",
   "metadata": {
    "id": "7d326bb7-db00-4ddb-86b7-df2b004366c2",
    "outputId": "2be46855-e762-4407-f05b-3ecec314454b"
   },
   "outputs": [
    {
     "name": "stdin",
     "output_type": "stream",
     "text": [
      "Enter the string:   Ranga Ranga Vibhavanga\n"
     ]
    },
    {
     "name": "stdout",
     "output_type": "stream",
     "text": [
      "The modified string is: RangaRangaVibhavanga\n"
     ]
    }
   ],
   "source": [
    "#assigning the input as x variable\n",
    "x=str(input(\"Enter the string:\"))\n",
    "trim=x.replace(\" \",\"\")\n",
    "#using replace built in function to remove the spaces\n",
    "print(\"The modified string is:\",trim)\n",
    "#printing the modified string by calling trim ."
   ]
  },
  {
   "cell_type": "code",
   "execution_count": null,
   "id": "15d0e1b1-017c-4029-856c-0fe9c95953f5",
   "metadata": {
    "id": "15d0e1b1-017c-4029-856c-0fe9c95953f5"
   },
   "outputs": [],
   "source": []
  }
 ],
 "metadata": {
  "colab": {
   "provenance": []
  },
  "kernelspec": {
   "display_name": "Python 3",
   "language": "python",
   "name": "python3"
  },
  "language_info": {
   "codemirror_mode": {
    "name": "ipython",
    "version": 3
   },
   "file_extension": ".py",
   "mimetype": "text/x-python",
   "name": "python",
   "nbconvert_exporter": "python",
   "pygments_lexer": "ipython3",
   "version": "3.8.8"
  }
 },
 "nbformat": 4,
 "nbformat_minor": 5
}
